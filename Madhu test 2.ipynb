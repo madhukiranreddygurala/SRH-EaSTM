{
  "nbformat": 4,
  "nbformat_minor": 0,
  "metadata": {
    "colab": {
      "name": "Untitled10.ipynb",
      "provenance": [],
      "authorship_tag": "ABX9TyM7k/vk9WmJpIdCp14/TKXg",
      "include_colab_link": true
    },
    "kernelspec": {
      "name": "python3",
      "display_name": "Python 3"
    },
    "language_info": {
      "name": "python"
    }
  },
  "cells": [
    {
      "cell_type": "markdown",
      "metadata": {
        "id": "view-in-github",
        "colab_type": "text"
      },
      "source": [
        "<a href=\"https://colab.research.google.com/github/madhukiranreddygurala/SRH-EaSTM/blob/main/Madhu%20test%202.ipynb\" target=\"_parent\"><img src=\"https://colab.research.google.com/assets/colab-badge.svg\" alt=\"Open In Colab\"/></a>"
      ]
    },
    {
      "cell_type": "code",
      "metadata": {
        "colab": {
          "base_uri": "https://localhost:8080/"
        },
        "id": "EHrKpN2CZIbR",
        "outputId": "d300b8df-7535-41eb-a147-8cb8ba54e084"
      },
      "source": [
        "num = int(input('Enter the number: '))\n",
        "if num > 999:\n",
        "  print(\"Please input a smaller number\")\n",
        "else:\n",
        "  unit = ('', 'One', 'Two', 'Three', 'Four', 'Five', 'Six', 'Seven', 'Eight', 'Nine')\n",
        "  tens = ('Ten','Eleven', 'Twelve', 'Thirteen', 'Fourteen', 'Fifteen', 'Sixteen', 'Seventeen', 'Eighteen', 'Nineteen')\n",
        "  hundreds = ('','Ten','Twenty', 'Thirty', 'Forty', 'Fifty', 'Sixty', 'Seventy', 'Eighty', 'Ninety' )\n",
        "  n1= num %10\n",
        "  n2= num //10\n",
        "  n3 = n2 %10\n",
        "  n4 = n2 //10\n",
        "  \n",
        "  if num == 0:\n",
        "    print(\"Zero\")\n",
        "  \n",
        "  if num < 10:\n",
        "    print(unit[n1])\n",
        "  \n",
        "  elif num < 20:\n",
        "    print(tens[n1])\n",
        "  \n",
        "  elif n3 == 1:\n",
        "    print(unit[n4] ,tens[n1])\n",
        "  \n",
        "  else:\n",
        "    print(unit[n4], 'hundred' ,hundreds[n3], unit[n1])"
      ],
      "execution_count": 5,
      "outputs": [
        {
          "output_type": "stream",
          "text": [
            "Enter the number: 222\n",
            "Two hundred Twenty Two\n"
          ],
          "name": "stdout"
        }
      ]
    }
  ]
}